{
 "cells": [
  {
   "cell_type": "markdown",
   "metadata": {},
   "source": [
    "## Haar Cascades"
   ]
  },
  {
   "cell_type": "markdown",
   "metadata": {},
   "source": [
    "Based on the popular (Viola-Jones)[https://link.springer.com/article/10.1023/B:VISI.0000013087.49260.fb] framework for object detection. They proposed using Haar features (two-valued,  rectangular masks), efficiently computed using \"integral\" images (where each pixel value is the sum of all the pixel values in the rectangular zone where that pixel is the bottom-right corner). Something like a 2D, discrete CDF in probability theory. They also proposed using a \"cascade\" of weak classifiers to improve performance.\n",
    "\n",
    "OpenCV offers an implementation of this under the \"CascadeClassifier\" class, along with pretrained classifiers for face detection. "
   ]
  },
  {
   "cell_type": "code",
   "execution_count": 37,
   "metadata": {},
   "outputs": [],
   "source": [
    "import cv2\n",
    "\n",
    "def detect_faces_haar(image_path, output_path): \n",
    "    # Path to preset face detection cascade file that come with OpenCV out of the box. Some other cascade files can be found at venv/Lib/site-packages/cv2/data\n",
    "    face_detection_cascade_file = cv2.data.haarcascades + \"haarcascade_frontalface_default.xml\"\n",
    "    face_cascade = cv2.CascadeClassifier(face_detection_cascade_file)     \n",
    "\n",
    "    image = cv2.imread(image_path)\n",
    "    cv2.imshow(\"Base image\", image)\n",
    "    faces_gray = cv2.cvtColor(image, cv2.COLOR_BGR2GRAY)\n",
    "\n",
    "    # Parameters for detectMultiScale taken from https://stackoverflow.com/questions/20801015/recommended-values-for-opencv-detectmultiscale-parameters \n",
    "    # along with some experiments on the sample image\n",
    "    faces = face_cascade.detectMultiScale(faces_gray, scaleFactor = 1.2, minNeighbors = 4)      # these values can be changed as needed \n",
    "\n",
    "    for (x, y, w, h) in faces:\n",
    "        cv2.rectangle(image, (x, y), (x+w, y+h), (0, 255, 0), 2)\n",
    "\n",
    "    cv2.imwrite(output_path, image)\n",
    "    cv2.imshow(\"Detected faces (Haar Cascade)\", image)\n",
    "    print(\"Close windows or press key to exit.\")\n",
    "    cv2.waitKey(0)\n",
    "    cv2.destroyAllWindows()"
   ]
  },
  {
   "cell_type": "code",
   "execution_count": 38,
   "metadata": {},
   "outputs": [
    {
     "name": "stdout",
     "output_type": "stream",
     "text": [
      "Close windows or press key to exit.\n"
     ]
    }
   ],
   "source": [
    "detect_faces_haar(\"samples/face_detection/solvay_color.jpg\", \"samples/face_detection/solvay_detected_haar.jpg\")"
   ]
  }
 ],
 "metadata": {
  "kernelspec": {
   "display_name": "venv",
   "language": "python",
   "name": "python3"
  },
  "language_info": {
   "codemirror_mode": {
    "name": "ipython",
    "version": 3
   },
   "file_extension": ".py",
   "mimetype": "text/x-python",
   "name": "python",
   "nbconvert_exporter": "python",
   "pygments_lexer": "ipython3",
   "version": "3.11.3"
  }
 },
 "nbformat": 4,
 "nbformat_minor": 2
}
